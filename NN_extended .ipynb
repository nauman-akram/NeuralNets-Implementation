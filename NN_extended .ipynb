{
 "cells": [
  {
   "cell_type": "markdown",
   "metadata": {},
   "source": [
    "<h1><center>Deep Learning</center></h1>\n",
    "<h3><center>Experimenting different activation functions</center></h3>\n"
   ]
  },
  {
   "cell_type": "code",
   "execution_count": 1,
   "metadata": {},
   "outputs": [],
   "source": [
    "# Include libraries which may use in implementation\n",
    "import pickle\n",
    "import numpy as np\n",
    "import random\n",
    "import sklearn.datasets as ds\n",
    "import matplotlib.pyplot as plt\n",
    "%matplotlib inline\n"
   ]
  },
  {
   "cell_type": "code",
   "execution_count": 2,
   "metadata": {},
   "outputs": [],
   "source": [
    "# Create a Neural_Network class\n",
    "class Neural_Network(object):        \n",
    "    def __init__(self,inputSize = 2,hiddenlayer = 3, outputSize = 1 ):        \n",
    "        # size of layers\n",
    "        self.inputSize = inputSize\n",
    "        self.outputSize = outputSize \n",
    "        self.hiddenLayer = hiddenlayer\n",
    "        #output hidden layer\n",
    "        self.a = None\n",
    "        #weights\n",
    "        # size of the wieght will be (inputSize +1, hiddenlayer) that +1 is for bias  \n",
    "        self.W1 =  np.random.rand(inputSize, hiddenlayer ) # randomly initialize W1 using random function of numpy\n",
    "        self.bias1 = np.random.rand(hiddenlayer)\n",
    "        \n",
    "        # size of the wieght will be (hiddenlayer +1, outputSize) that +1 is for bias    \n",
    "        self.W2 = np.random.rand(hiddenlayer, outputSize)  # randomly initialize W2 using random function of numpy\n",
    "        self.bias2 = np.random.rand(outputSize)\n",
    "\n",
    "        \n",
    "    def feedforward(self, X, act_foo=\"tanh\"):\n",
    "        #forward propagation through our network\n",
    "        # dot product of X (input) and set of weights\n",
    "        # apply activation function (i.e. whatever function was passed in initialization)\n",
    "        z1 = np.dot(X, self.W1) + self.bias1\n",
    "        \n",
    "        if act_foo==\"sigmoid\":\n",
    "            a_layer_1 = self.sigmoid(z1)\n",
    "        elif act_foo==\"relu\":\n",
    "            a_layer_1 = self.relu(z1)\n",
    "        elif act_foo==\"tanh\":\n",
    "            a_layer_1 = self.tanh(z1)\n",
    "        \n",
    "        self.a = a_layer_1\n",
    "        z2 = np.dot(a_layer_1, self.W2) + self.bias2\n",
    "    \n",
    "        y_hat = self.sigmoid(z2)\n",
    "        \n",
    "        return y_hat\n",
    "        \n",
    "        \n",
    "    def sigmoid(self, s):\n",
    "        # activation function\n",
    "        return  (1/(1 + np.exp(-s))) # apply sigmoid function on s and return it's value\n",
    "\n",
    "    \n",
    "    def sigmoid_derivative(self, s):\n",
    "        #derivative of sigmoid\n",
    "        return s*(1-s) # apply derivative of sigmoid on s and return it's value \n",
    "\n",
    "    \n",
    "    def tanh(self, s):\n",
    "        # activation function\n",
    "        return (2*self.sigmoid(2*s)) - 1 # apply tanh function on s and return it's value\n",
    "\n",
    "    \n",
    "    def tanh_derivative(self, s):\n",
    "        #derivative of tanh\n",
    "        return 1 - self.tanh(s)**2  # apply derivative of tanh on s and return it's value\n",
    "  \n",
    "\n",
    "    def relu(self, s):\n",
    "        # activation function\n",
    "        s = np.where(s>=0,s,0)\n",
    "        return s # apply relu function on s and return it's value\n",
    "\n",
    "    \n",
    "    def relu_derivative(self, s):\n",
    "        #derivative of relu\n",
    "        s = np.where(s>=0,1,0)\n",
    "        return  s  # apply derivative of relu on s and return it's value\n",
    "\n",
    "    \n",
    "    def backwardpropagate(self,X, Y, y_pred, lr,act_foo=\"tanh\"):\n",
    "        # backward propagate through the network\n",
    "        # compute error in output which is loss compute cross entropy loss function\n",
    "        # applying derivative of that applied activation function to the error\n",
    "        # adjust set of weights\n",
    "        \n",
    "        error =  self.crossentropy(Y,y_pred)\n",
    "     \n",
    "        derv_sig = (-(Y/y_pred) + ((1-Y)/(1-y_pred)))\n",
    "        derv_z = self.sigmoid_derivative(y_pred)\n",
    "        outputL_gradient = derv_sig * derv_z #element wise multiplication\n",
    "        derv_Ws_el = np.dot(self.a.T, outputL_gradient )\n",
    "        \n",
    "        \n",
    "        error_hdn_L  = np.dot(outputL_gradient, self.W2.T)\n",
    "        if act_foo==\"sigmoid\":\n",
    "            derv_a =  self.sigmoid_derivative(self.a)\n",
    "        elif act_foo==\"relu\":\n",
    "            derv_a =  self.relu_derivative(self.a)\n",
    "        elif act_foo==\"tanh\":\n",
    "            derv_a =  self.tanh_derivative(self.a)\n",
    "            \n",
    "        hiddenL_gradient = error_hdn_L * derv_a  #element wise multiplication\n",
    "        derv_Ws_hdn = np.dot(X.T, hiddenL_gradient )\n",
    "        \n",
    "        \n",
    "        derv_b_el =   np.sum(outputL_gradient)\n",
    "        derv_b_hdn =   np.sum(hiddenL_gradient)\n",
    "        \n",
    "        #updating\n",
    "        self.W2 = self.W2 - (lr * derv_Ws_el)\n",
    "        self.W1 = self.W1 - (lr * derv_Ws_hdn)\n",
    "        \n",
    "        self.bias2 = self.bias2 - (lr *  derv_b_el )\n",
    "        self.bias1 = self.bias1 - (lr *  derv_b_hdn )\n",
    "        \n",
    "        return error\n",
    "        \n",
    "    \n",
    "    def crossentropy(self, Y, Y_pred):\n",
    "        \n",
    "        # compute error based on crossentropy loss \n",
    "        error =  -(1/len(Y)) * np.sum( ( Y * np.log(Y_pred)) + ((1-Y) * np.log(1-Y_pred)) ) #error\n",
    "        return error #error\n",
    "\n",
    "    \n",
    "    def train(self, trainX, trainY,epochs = 100, learningRate = 0.001, use_act_foo=\"tanh\",  plot_err = True ,validationX = None, validationY = None):\n",
    "        # feed forward trainX and trainY and recivce predicted value\n",
    "        # backpropagation with trainX, trainY, predicted value and learning rate.\n",
    "        # if validationX and validationY are not null than show validation accuracy and error of the model by printing values.\n",
    "        # plot error of the model if plot_err is true\n",
    "\n",
    "        train_errors = list()\n",
    "        vald_errors = list()\n",
    "        accuracies = list()\n",
    "        for i in range(1,epochs+1):\n",
    "            #print(i,\"epoch...\")\n",
    "            # feed forward trainX and trainY and recivce predicted value\n",
    "            y_pred = self.feedforward( trainX,use_act_foo)\n",
    "            # backpropagation with trainX, trainY, predicted value and learning rate.\n",
    "            cost = self.backwardpropagate( trainX, trainY, y_pred, learningRate,use_act_foo)\n",
    "            # if validationX and validationY are not null than show validation accuracy and error of the model.\n",
    "            train_errors.append(cost)\n",
    "            \n",
    "            if validationX.any() != None : \n",
    "                val_pred = self.predict(validationX)\n",
    "                accuracy = self.accuracy(validationX,validationY)\n",
    "                error = self.crossentropy(validationY, val_pred)\n",
    "                accuracies.append(accuracy)\n",
    "                vald_errors.append(error)\n",
    "                if i%100 == 0:\n",
    "                    print(\"Validating.. @{}\".format(i))\n",
    "                    print(\"accuracy at {} : {}\".format(i,accuracy))\n",
    "                    print(\"error:\", error )\n",
    "                    \n",
    "        plt.title(\"Loss function w.r.t Epochs\")\n",
    "        plt.plot(train_errors)\n",
    "        plt.xlabel(\"Epochs\")\n",
    "        plt.ylabel(\"Error\")\n",
    "        \n",
    "        if plot_err:\n",
    "            plt.plot(vald_errors)\n",
    "            \n",
    "        plt.legend({\"train\",\"validation\"})\n",
    "        \n",
    "        \n",
    "\n",
    "    def predict(self, testX):\n",
    "        # predict the value of testX\n",
    "        h = np.dot(testX, self.W1) +  self.bias1\n",
    "        a_1 = self.sigmoid( h )\n",
    "        val_pred = self.sigmoid(np.dot(a_1, self.W2) + self.bias2)\n",
    "\n",
    "        return val_pred\n",
    "        \n",
    "    \n",
    "    def accuracy(self, testX, testY):\n",
    "        # predict the value of testX\n",
    "        predictions = self.predict(testX)\n",
    "        predictions = np.where(predictions<0.5,0,1)\n",
    "        count = 0\n",
    "        for pred,org in zip(predictions,testY):\n",
    "            if int(pred) == org:\n",
    "                count += 1        \n",
    "            \n",
    "        return \"{:.2f}\".format(count/len(testY) *100)  # return accuracy    \n",
    "        \n",
    "        \n",
    "    def saveModel(self,name):\n",
    "        # save your trained model, it is your interpretation how, which and what data you store\n",
    "        # which you will use later for prediction\n",
    "        weights = {\"W_1\":self.W1, \"W_2\":self.W2, \"b1\":self.bias1, \"b2\":self.bias2}\n",
    "        with open(name, 'wb') as obj:\n",
    "            pickle.dump(weights,obj)\n",
    "        \n",
    "        \n",
    "    def loadModel(self,name):\n",
    "        # load your trained model, load exactly how you stored it.\n",
    "        with open(name, 'rb') as obj:\n",
    "            weights = pickle.load(obj)\n",
    "            self.W1 = weights[\"W_1\"]\n",
    "            self.bias1 = weights[\"b1\"]\n",
    "            self.W2 = weights[\"W_2\"]\n",
    "            self.bias2 = weights[\"b2\"]\n",
    "    \n"
   ]
  },
  {
   "cell_type": "code",
   "execution_count": 3,
   "metadata": {},
   "outputs": [
    {
     "data": {
      "image/png": "[encoded data removed]",
      "text/plain": [
       "<Figure size 432x288 with 1 Axes>"
      ]
     },
     "metadata": {
      "needs_background": "light"
     },
     "output_type": "display_data"
    }
   ],
   "source": [
    "data, label = ds.make_circles(n_samples=1000, factor=.4, noise=0.05)\n",
    "\n",
    "#Lets visualize the dataset\n",
    "reds = label == 0\n",
    "blues = label == 1\n",
    "plt.scatter(data[reds, 0], data[reds, 1], c=\"red\", s=20, edgecolor='k')\n",
    "plt.scatter(data[blues, 0], data[blues, 1], c=\"blue\", s=20, edgecolor='k')\n",
    "plt.show()\n"
   ]
  },
  {
   "cell_type": "code",
   "execution_count": null,
   "metadata": {},
   "outputs": [],
   "source": []
  },
  {
   "cell_type": "code",
   "execution_count": 4,
   "metadata": {},
   "outputs": [
    {
     "name": "stdout",
     "output_type": "stream",
     "text": [
      "70% data for training...\n",
      "15% data for validation...\n",
      "15% data for testing...\n",
      "700\n",
      "150\n",
      "150\n"
     ]
    },
    {
     "data": {
      "text/plain": [
       "((700, 2), (150, 2), (150, 2))"
      ]
     },
     "execution_count": 4,
     "metadata": {},
     "output_type": "execute_result"
    }
   ],
   "source": [
    "#Note: shuffle this dataset before dividing it into three parts\n",
    "\n",
    "np.random.seed(34)\n",
    "length = len(data)\n",
    "#data index array\n",
    "d = np.arange(0,length)\n",
    "\n",
    "\n",
    "shuffle_choice = np.random.choice(d, length, replace=False)\n",
    "#will give me shuffled data in both array with same index shuffled at other array\n",
    "shuffled_X = data[shuffle_choice]\n",
    "shuffled_y = label[shuffle_choice]\n",
    "\n",
    "\n",
    "train_data_length = 70 #how much percent\n",
    "validation_data_length = 15\n",
    "test_data_length = 15\n",
    "\n",
    "print(\"{}% data for training...\".format(train_data_length))\n",
    "print(\"{}% data for validation...\".format(validation_data_length))\n",
    "print(\"{}% data for testing...\".format(test_data_length))\n",
    "\n",
    "select_train_data = int((length * train_data_length) / 100)\n",
    "select_validation_data =  int( (length * (validation_data_length)) / 100)\n",
    "select_test_data =  int((length * test_data_length) / 100)\n",
    " \n",
    "print(select_train_data)\n",
    "print(select_validation_data)\n",
    "print(select_test_data)\n",
    "\n",
    "# Distribute this data into three parts i.e. training, validation and testing\n",
    "trainX = shuffled_X[:select_train_data] # training data point\n",
    "trainY = shuffled_y[:select_train_data] # training lables\n",
    "trainY= trainY.reshape(-1,1)\n",
    "\n",
    "validX = shuffled_X[select_train_data : select_train_data+ select_validation_data ]  # validation data point\n",
    "validY = shuffled_y[select_train_data : select_train_data+ select_validation_data ]# validation lables\n",
    "validY = validY.reshape(-1,1)\n",
    "\n",
    "\n",
    "testX = shuffled_X[select_train_data+ select_validation_data :  ]# testing data point\n",
    "testY = shuffled_y[select_train_data+ select_validation_data : ]# testing lables\n",
    "testY = testY.reshape(-1,1)\n",
    "\n",
    "trainX.shape, validX.shape, testX.shape\n"
   ]
  },
  {
   "cell_type": "code",
   "execution_count": null,
   "metadata": {},
   "outputs": [],
   "source": []
  },
  {
   "cell_type": "code",
   "execution_count": 5,
   "metadata": {},
   "outputs": [
    {
     "name": "stdout",
     "output_type": "stream",
     "text": [
      "Validating.. @100\n",
      "accuracy at 100 : 82.67\n",
      "error: 0.5334274268560615\n",
      "Validating.. @200\n",
      "accuracy at 200 : 100.00\n",
      "error: 0.07843107056576579\n",
      "Validating.. @300\n",
      "accuracy at 300 : 100.00\n",
      "error: 0.025861926170001583\n",
      "Validating.. @400\n",
      "accuracy at 400 : 100.00\n",
      "error: 0.01582054106944786\n",
      "Validating.. @500\n",
      "accuracy at 500 : 100.00\n",
      "error: 0.011593816250774804\n",
      "Validating.. @600\n",
      "accuracy at 600 : 100.00\n",
      "error: 0.009258371056349055\n",
      "Validating.. @700\n",
      "accuracy at 700 : 100.00\n",
      "error: 0.0077708436715811955\n",
      "Validating.. @800\n",
      "accuracy at 800 : 100.00\n",
      "error: 0.006736593732501074\n",
      "Validating.. @900\n",
      "accuracy at 900 : 100.00\n",
      "error: 0.005973445627457453\n",
      "Validating.. @1000\n",
      "accuracy at 1000 : 100.00\n",
      "error: 0.005385633944171447\n"
     ]
    },
    {
     "data": {
      "image/png": "[encoded data removed]",
      "text/plain": [
       "<Figure size 432x288 with 1 Axes>"
      ]
     },
     "metadata": {
      "needs_background": "light"
     },
     "output_type": "display_data"
    }
   ],
   "source": [
    "model_sig = Neural_Network(2,3,1)\n",
    "# try different combinations of epochs and learning rate\n",
    "model_sig.train(trainX, trainY, epochs = 1000, learningRate = 0.01, use_act_foo=\"sigmoid\", validationX = validX, validationY = validY)\n"
   ]
  },
  {
   "cell_type": "code",
   "execution_count": 33,
   "metadata": {},
   "outputs": [
    {
     "name": "stdout",
     "output_type": "stream",
     "text": [
      "Validating.. @100\n",
      "accuracy at 100 : 61.33\n",
      "error: 0.6920909184855764\n"
     ]
    },
    {
     "data": {
      "image/png": "[encoded data removed]",
      "text/plain": [
       "<Figure size 432x288 with 1 Axes>"
      ]
     },
     "metadata": {
      "needs_background": "light"
     },
     "output_type": "display_data"
    }
   ],
   "source": [
    "model_relu = Neural_Network(2,4,1)\n",
    "# try different combinations of epochs and learning rate\n",
    "model_relu.train(trainX, trainY, epochs = 100, learningRate = 0.0001, use_act_foo=\"relu\", validationX = validX, validationY = validY)\n"
   ]
  },
  {
   "cell_type": "code",
   "execution_count": 39,
   "metadata": {},
   "outputs": [
    {
     "name": "stdout",
     "output_type": "stream",
     "text": [
      "Validating.. @100\n",
      "accuracy at 100 : 58.00\n",
      "error: 0.6768896245474093\n",
      "Validating.. @200\n",
      "accuracy at 200 : 59.33\n",
      "error: 0.6817596453312579\n",
      "Validating.. @300\n",
      "accuracy at 300 : 68.00\n",
      "error: 0.6829481455142609\n",
      "Validating.. @400\n",
      "accuracy at 400 : 72.00\n",
      "error: 0.6835083028129929\n",
      "Validating.. @500\n",
      "accuracy at 500 : 72.67\n",
      "error: 0.6839119737505449\n"
     ]
    },
    {
     "data": {
      "image/png": "[encoded data removed]",
      "text/plain": [
       "<Figure size 432x288 with 1 Axes>"
      ]
     },
     "metadata": {
      "needs_background": "light"
     },
     "output_type": "display_data"
    }
   ],
   "source": [
    "model_tanh = Neural_Network(2,4,1)\n",
    "# try different combinations of epochs and learning rate\n",
    "model_tanh.train(trainX, trainY, epochs = 500, learningRate = 0.0001, use_act_foo=\"tanh\", validationX = validX, validationY = validY)\n"
   ]
  },
  {
   "cell_type": "code",
   "execution_count": 40,
   "metadata": {},
   "outputs": [],
   "source": [
    "#save the best model which you have trained, \n",
    "model_tanh.saveModel('task2_model/bestmodel_tanh.mdl')\n",
    "model_relu.saveModel('task2_model/bestmodel_relu.mdl')\n",
    "model_sig.saveModel('task2_model/bestmodel_sig.mdl')"
   ]
  },
  {
   "cell_type": "markdown",
   "metadata": {},
   "source": [
    "#### Note: This below section will be used for the evaluation of this task, we need your model and we will run script below to evaluated your model"
   ]
  },
  {
   "cell_type": "code",
   "execution_count": 43,
   "metadata": {},
   "outputs": [
    {
     "name": "stdout",
     "output_type": "stream",
     "text": [
      "For tanh model accuracy on test set is 58.00\n",
      "For relu model accuracy on test set is 54.00\n",
      "For sig model accuracy on test set is 100.00\n"
     ]
    }
   ],
   "source": [
    "# create class object\n",
    "mm = Neural_Network()\n",
    "# load model which will be provided by you\n",
    "models = [\"tanh\",\"relu\",\"sig\"]\n",
    "for model in models:\n",
    "    \n",
    "    mm.loadModel('task2_model/bestmodel_'+model+'.mdl')\n",
    "    # check accuracy of that model\n",
    "    print(\"For\",model,\"model accuracy on test set is\", mm.accuracy(testX,testY) )\n",
    "\n",
    "\n"
   ]
  },
  {
   "cell_type": "code",
   "execution_count": null,
   "metadata": {},
   "outputs": [],
   "source": []
  }
 ],
 "metadata": {
  "kernelspec": {
   "display_name": "Python 3",
   "language": "python",
   "name": "python3"
  },
  "language_info": {
   "codemirror_mode": {
    "name": "ipython",
    "version": 3
   },
   "file_extension": ".py",
   "mimetype": "text/x-python",
   "name": "python",
   "nbconvert_exporter": "python",
   "pygments_lexer": "ipython3",
   "version": "3.7.3"
  }
 },
 "nbformat": 4,
 "nbformat_minor": 2
}
