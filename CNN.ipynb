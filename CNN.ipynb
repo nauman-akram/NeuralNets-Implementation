{
 "cells": [
  {
   "cell_type": "code",
   "execution_count": 1,
   "metadata": {},
   "outputs": [],
   "source": [
    "import numpy as np\n",
    "import glob\n",
    "import matplotlib.image as img\n",
    "\n",
    "\n",
    "def loadDataset(path):  \n",
    "    print('Loading Dataset...')\n",
    "    train_x, train_y, test_x, test_y = [], [], [], []  \n",
    "    for i in range(10):\n",
    "        count = 0\n",
    "        for filename in glob.glob(path + '\\\\trainsets_1\\\\ID5\\\\' + str(i)+'\\\\*.png'):    \n",
    "            im=img.imread(filename)    \n",
    "            train_x.append(im)         \n",
    "            train_y.append(i)\n",
    "            count += 1\n",
    "            if count == 100:\n",
    "                break\n",
    "                \n",
    "    for i in range(10):   \n",
    "        count = 0\n",
    "        for filename in glob.glob(path + '\\\\test_set\\\\' + str(i)+'\\\\*.png'):    \n",
    "            im=img.imread(filename)     \n",
    "            test_x.append(im)        \n",
    "            test_y.append(i)  \n",
    "            count += 1\n",
    "            if count == 10 :\n",
    "                break\n",
    "    \n",
    "    \n",
    "    print('Dataset loaded...')  \n",
    "                \n",
    "    return np.array(train_x), np.array(train_y), np.array(test_x),np.array(test_y) \n",
    "\n"
   ]
  },
  {
   "cell_type": "code",
   "execution_count": 2,
   "metadata": {},
   "outputs": [
    {
     "name": "stdout",
     "output_type": "stream",
     "text": [
      "Loading Dataset...\n",
      "Dataset loaded...\n"
     ]
    }
   ],
   "source": [
    "trainX, trainY, testX, testY = loadDataset(r\"C:\\Users\\Nauman\\Documents\\DL\\Nauman_MSDS19041_03\")"
   ]
  },
  {
   "cell_type": "code",
   "execution_count": 3,
   "metadata": {},
   "outputs": [
    {
     "data": {
      "text/plain": [
       "((28, 28, 28), (30, 28, 28))"
      ]
     },
     "execution_count": 3,
     "metadata": {},
     "output_type": "execute_result"
    }
   ],
   "source": [
    "trainX.shape, testX.shape"
   ]
  },
  {
   "cell_type": "code",
   "execution_count": 4,
   "metadata": {},
   "outputs": [
    {
     "name": "stdout",
     "output_type": "stream",
     "text": [
      "(17, 17, 36)\n"
     ]
    }
   ],
   "source": [
    "import scipy.io as sp\n",
    "data = sp.loadmat('filters.mat')\n",
    "filters = data['filters']\n",
    "filters = np.array(filters)\n",
    "print(filters.shape)"
   ]
  },
  {
   "cell_type": "code",
   "execution_count": 5,
   "metadata": {},
   "outputs": [
    {
     "data": {
      "text/plain": [
       "17"
      ]
     },
     "execution_count": 5,
     "metadata": {},
     "output_type": "execute_result"
    }
   ],
   "source": [
    "filters.shape[0]"
   ]
  },
  {
   "cell_type": "code",
   "execution_count": 6,
   "metadata": {},
   "outputs": [],
   "source": [
    "def conv_single_step(img_patch, _filter):\n",
    "    mul_ = img_patch * _filter\n",
    "    return np.sum(mul_)\n",
    "    "
   ]
  },
  {
   "cell_type": "code",
   "execution_count": 7,
   "metadata": {},
   "outputs": [
    {
     "data": {
      "text/plain": [
       "4"
      ]
     },
     "execution_count": 7,
     "metadata": {},
     "output_type": "execute_result"
    }
   ],
   "source": [
    "#Testing\n",
    "image = np.array([[1,1,1],[0,1,1],[0,0,1]])\n",
    "filt = np.array([[1,0,1],[0,1,0],[1,0,1]])\n",
    "conv_single_step(image, filt)"
   ]
  },
  {
   "cell_type": "code",
   "execution_count": 8,
   "metadata": {},
   "outputs": [],
   "source": [
    "def conv_forward(img, filters, stride=1, pad=0):\n",
    "    heightOfImg = img.shape[0]\n",
    "    widthOfImg = img.shape[1]\n",
    "    no_of_filters = filters.shape[2]\n",
    "    filter_wise_mat = list()\n",
    "    \n",
    "    for f in range(no_of_filters): \n",
    "        _filter = filters[:,:,f]\n",
    "        heightOfImg_for_loop = int( (heightOfImg - _filter.shape[0]) + (2*pad) / stride) + 1 \n",
    "        widthOfImg_for_loop =  int( (widthOfImg - _filter.shape[1]) + (2*pad) / stride) + 1 \n",
    "        row_wise_Conv_Vals = list()\n",
    "        \n",
    "        for i_ht in range(heightOfImg_for_loop):\n",
    "            width_wise_Conv_Vals  = list()\n",
    "            \n",
    "            for i_wth in range(widthOfImg_for_loop):\n",
    "                patch_img = img[ i_ht : (i_ht + _filter.shape[0]), i_wth : (i_wth + _filter.shape[1]) ]\n",
    "                width_wise_Conv_Vals.append(  conv_single_step(patch_img, _filter)  )\n",
    "            \n",
    "            row_wise_Conv_Vals.append(np.array(width_wise_Conv_Vals) )    \n",
    "\n",
    "        filter_wise_mat.append( np.asarray(row_wise_Conv_Vals) )\n",
    "\n",
    "    \n",
    "    \n",
    "    return np.array(filter_wise_mat)\n",
    "    \n",
    "    "
   ]
  },
  {
   "cell_type": "code",
   "execution_count": 9,
   "metadata": {},
   "outputs": [],
   "source": [
    "def pool_forward(feature_map, mode=\"max\", filter_size=2, stride=2):\n",
    "    heightOfMap = feature_map.shape[1]\n",
    "    widthOfMap = feature_map.shape[2]\n",
    "    no_of_filters = feature_map.shape[0]\n",
    "    \n",
    "    filter_wise_mat = list()\n",
    "    for f in range(no_of_filters): \n",
    "        heightOfMap_for_loop = int( (heightOfMap - filter_size) / stride) + 1 \n",
    "        widthOfMap_for_loop =  int( (widthOfMap - filter_size)  / stride) + 1 \n",
    "        row_wise_pool_Vals = list()\n",
    "        \n",
    "        for i_ht in range(0,heightOfMap,filter_size):\n",
    "            width_wise_pool_Vals  = list()\n",
    "            \n",
    "            for i_wth in range(0,widthOfMap,filter_size):\n",
    "                f_map = feature_map[f]\n",
    "                patch = f_map[i_ht: (i_ht+filter_size), i_wth: (i_wth+filter_size) ]\n",
    "                \n",
    "                width_wise_pool_Vals.append(  np.max(patch)  )\n",
    "            \n",
    "            row_wise_pool_Vals.append(np.array(width_wise_pool_Vals) )    \n",
    "\n",
    "        filter_wise_mat.append( np.asarray(row_wise_pool_Vals) )\n",
    "\n",
    "    \n",
    "    \n",
    "    return np.array(filter_wise_mat)\n",
    "    \n",
    "    "
   ]
  },
  {
   "cell_type": "code",
   "execution_count": 10,
   "metadata": {},
   "outputs": [],
   "source": [
    "def conv_pool(data, filters):\n",
    "    x_new = list()\n",
    "    for img in data:\n",
    "        mat = conv_forward(img, filters, 1, 0)\n",
    "        mx_pool = pool_forward(mat)\n",
    "        x_new.append(mx_pool.reshape(-1,1))\n",
    "\n",
    "        if len(x_new)%100 == 0:\n",
    "            print(len(x_new),\"computed\")\n",
    "    return x_new\n"
   ]
  },
  {
   "cell_type": "code",
   "execution_count": 11,
   "metadata": {},
   "outputs": [],
   "source": [
    "mat= conv_forward(trainX[0],filters)"
   ]
  },
  {
   "cell_type": "code",
   "execution_count": 12,
   "metadata": {},
   "outputs": [
    {
     "name": "stdout",
     "output_type": "stream",
     "text": [
      "(36, 12, 12)\n",
      "[ 0.08334903  0.08378193  0.07680831  0.05865619  0.03017109 -0.00062764\n",
      " -0.03051573 -0.0622537  -0.08805487 -0.10444406 -0.11064647 -0.10695068]\n",
      "a\n",
      "(12, 12, 36)\n",
      "[[ 0.08334903  0.08378193  0.07680831  0.05865619  0.03017109 -0.00062764\n",
      "  -0.03051573 -0.0622537  -0.08805487 -0.10444406 -0.11064647 -0.10695068]\n",
      " [ 0.08695071  0.08081982  0.06642016  0.04192186  0.00634779 -0.02953343\n",
      "  -0.05977859 -0.08784501 -0.10766805 -0.1175732  -0.11863994 -0.11121192]\n",
      " [ 0.07615709  0.06187776  0.03993432  0.01150105 -0.02356269 -0.055963\n",
      "  -0.07947533 -0.09740645 -0.10688521 -0.10843511 -0.10339657 -0.09140244]\n",
      " [ 0.05719711  0.03491728  0.0074535  -0.0217224  -0.04917391 -0.07143329\n",
      "  -0.08386328 -0.08885115 -0.08680938 -0.07924677 -0.06632895 -0.04827225]\n",
      " [ 0.03655554  0.01061673 -0.0172738  -0.04246647 -0.05813554 -0.06804492\n",
      "  -0.07056172 -0.06584429 -0.05604361 -0.04186994 -0.02322057 -0.00284402]\n",
      " [ 0.00800099 -0.01513176 -0.03696607 -0.05258878 -0.05602705 -0.05559253\n",
      "  -0.05313707 -0.04510523 -0.03357293 -0.01875372 -0.00173821  0.01223058]\n",
      " [-0.02592813 -0.04265741 -0.05489073 -0.05809582 -0.05191218 -0.0449064\n",
      "  -0.0411558  -0.03268765 -0.02187062 -0.01011999 -0.00044121  0.00210551]\n",
      " [-0.04946892 -0.05989808 -0.06269651 -0.05514313 -0.04290071 -0.03243672\n",
      "  -0.02681463 -0.01598831 -0.00394023  0.00583171  0.00850782  0.00260889]\n",
      " [-0.05381279 -0.0576854  -0.0516305  -0.03732358 -0.02229988 -0.01066467\n",
      "  -0.00146783  0.01225706  0.02549255  0.03242459  0.02944158  0.01908909]\n",
      " [-0.03563783 -0.0307615  -0.01679538  0.00023923  0.01488329  0.02522209\n",
      "   0.03583158  0.04768606  0.05602251  0.05424065  0.04331392  0.02754859]\n",
      " [ 0.01770068  0.03275239  0.05098026  0.06662193  0.07710229  0.08222444\n",
      "   0.08639041  0.08705271  0.0806299   0.06384479  0.04131862  0.01748943]\n",
      " [ 0.11381684  0.13601733  0.15226898  0.1606203   0.1604838   0.15293028\n",
      "   0.13908643  0.11778987  0.0884567   0.05428714  0.02029527 -0.00969919]]\n"
     ]
    }
   ],
   "source": [
    "print(mat.shape)\n",
    "print(mat[0][0])\n",
    "print(\"a\")\n",
    "a = np.swapaxes(mat,0,-1)\n",
    "print(np.swapaxes(a,0,1).shape)\n",
    "print(a[:,:,0].transpose())"
   ]
  },
  {
   "cell_type": "code",
   "execution_count": 13,
   "metadata": {},
   "outputs": [
    {
     "data": {
      "text/plain": [
       "array([[ 8.33490296e-02,  8.69507066e-02,  7.61570890e-02,\n",
       "         5.71971136e-02,  3.65555427e-02,  8.00098992e-03,\n",
       "        -2.59281347e-02, -4.94689227e-02, -5.38127856e-02,\n",
       "        -3.56378273e-02,  1.77006767e-02,  1.13816839e-01],\n",
       "       [ 2.33612888e-02,  1.75106497e-02,  1.10360581e-02,\n",
       "         1.39831266e-02,  2.48445780e-02,  2.87419120e-02,\n",
       "         1.66371109e-02,  1.36516863e-03,  2.72405589e-03,\n",
       "         2.53080011e-02,  6.42359060e-02,  1.09843853e-01],\n",
       "       [-8.81576871e-03, -6.75452056e-03, -5.03021730e-04,\n",
       "         9.28410863e-03,  1.83994686e-02,  2.57236864e-02,\n",
       "         3.36361549e-02,  4.06854956e-02,  4.64323036e-02,\n",
       "         5.78330519e-02,  7.35032812e-02,  8.62250499e-02],\n",
       "       [-6.93347145e-02, -6.64715370e-02, -5.60253191e-02,\n",
       "        -3.66382993e-02, -8.20799257e-03,  2.83802897e-02,\n",
       "         6.46721411e-02,  9.63792042e-02,  1.24297292e-01,\n",
       "         1.42996985e-01,  1.51220165e-01,  1.50551202e-01],\n",
       "       [-1.11980809e-01, -1.87336616e-01, -2.62190680e-01,\n",
       "        -3.01610931e-01, -2.71629572e-01, -1.63915908e-01,\n",
       "        -6.44205108e-03,  1.48025217e-01,  2.46977749e-01,\n",
       "         2.66173739e-01,  2.19293083e-01,  1.42703739e-01],\n",
       "       [-1.01295202e-01, -1.86545860e-01, -2.63743457e-01,\n",
       "        -2.74496997e-01, -1.89275133e-01, -4.73013199e-02,\n",
       "         7.83342439e-02,  1.45948923e-01,  1.58119547e-01,\n",
       "         1.31905992e-01,  7.84511029e-02,  8.16475400e-03],\n",
       "       [ 8.18507331e-02,  6.94348062e-02,  5.34252552e-02,\n",
       "         3.55929635e-02,  1.64530350e-02, -3.71139097e-03,\n",
       "        -2.19320288e-02, -3.11224799e-02, -2.19543263e-02,\n",
       "         1.26921850e-02,  6.89155787e-02,  1.20654269e-01],\n",
       "       [ 1.41141009e-02,  1.31208624e-02,  1.28683004e-02,\n",
       "         1.47154666e-02,  1.94592999e-02,  2.54684602e-02,\n",
       "         2.97009367e-02,  3.38036461e-02,  4.23142606e-02,\n",
       "         5.69986929e-02,  7.20399328e-02,  7.35945839e-02],\n",
       "       [-9.42000529e-04,  3.36283489e-03,  7.97833070e-03,\n",
       "         1.19241479e-02,  1.12815235e-02,  1.36943270e-02,\n",
       "         2.85346609e-02,  4.50818718e-02,  4.92690118e-02,\n",
       "         5.16378315e-02,  5.02172304e-02,  4.26692618e-02],\n",
       "       [-6.65585786e-02, -5.58466698e-02, -4.13023183e-02,\n",
       "        -2.27804020e-02, -4.24536817e-04,  2.27465897e-02,\n",
       "         3.82907059e-02,  4.92667169e-02,  6.40253955e-02,\n",
       "         7.65153042e-02,  8.75456188e-02,  9.84007844e-02],\n",
       "       [-1.65490098e-01, -2.14357895e-01, -2.46449114e-01,\n",
       "        -2.48713808e-01, -2.13354660e-01, -1.47342703e-01,\n",
       "        -6.15495785e-02,  3.08805383e-02,  1.12518439e-01,\n",
       "         1.59945576e-01,  1.67103031e-01,  1.40879406e-01],\n",
       "       [-1.66454017e-01, -2.17582515e-01, -2.36600716e-01,\n",
       "        -2.06302226e-01, -1.29949274e-01, -3.24390816e-02,\n",
       "         5.34975596e-02,  1.05901962e-01,  1.18801501e-01,\n",
       "         9.84657298e-02,  5.55295770e-02,  3.75336093e-03],\n",
       "       [ 8.30670294e-02,  6.57578328e-02,  4.58328361e-02,\n",
       "         2.57679464e-02,  7.83437310e-03, -4.14246368e-03,\n",
       "        -6.57731084e-03,  2.23091519e-03,  2.16149743e-02,\n",
       "         4.80164911e-02,  6.99192011e-02,  7.19993399e-02],\n",
       "       [ 1.39934317e-02,  1.22926715e-02,  1.11808951e-02,\n",
       "         1.10958522e-02,  1.61566881e-02,  3.07834930e-02,\n",
       "         4.90717671e-02,  6.26615797e-02,  6.74108860e-02,\n",
       "         6.55555765e-02,  5.31075872e-02,  2.69452182e-02],\n",
       "       [-2.87563872e-03,  2.08109731e-03,  5.74429474e-03,\n",
       "         7.64317189e-03,  4.07186540e-03,  7.57124768e-03,\n",
       "         2.64362348e-02,  4.21866977e-02,  3.63234222e-02,\n",
       "         2.68522055e-02,  1.39062419e-02, -1.25444989e-03],\n",
       "       [-7.20264247e-02, -6.14596805e-02, -4.84721754e-02,\n",
       "        -3.33819134e-02, -1.81656702e-02, -9.32799991e-03,\n",
       "        -9.08224375e-03, -7.69225204e-03,  2.01218928e-03,\n",
       "         1.30369740e-02,  2.61017744e-02,  4.07084650e-02],\n",
       "       [-1.82894174e-01, -2.02766794e-01, -2.06920185e-01,\n",
       "        -1.93236374e-01, -1.61828301e-01, -1.24469961e-01,\n",
       "        -8.44856612e-02, -3.63072055e-02,  2.23021239e-02,\n",
       "         6.68304559e-02,  9.11614908e-02,  9.37153424e-02],\n",
       "       [-1.87496877e-01, -2.01842710e-01, -1.91130608e-01,\n",
       "        -1.53968903e-01, -9.61431837e-02, -3.26131305e-02,\n",
       "         1.96238847e-02,  5.23758336e-02,  6.32759549e-02,\n",
       "         5.35427651e-02,  3.09571813e-02,  6.43769976e-03],\n",
       "       [ 9.66462809e-03, -3.59186694e-03, -1.81879209e-02,\n",
       "        -2.10460444e-02, -2.51427735e-02, -3.59588050e-02,\n",
       "        -3.36820092e-02, -1.54948323e-02,  6.35205565e-03,\n",
       "         3.52062415e-02,  8.22630270e-02,  1.15309612e-01],\n",
       "       [-2.44474017e-03, -8.46967736e-03, -3.16536456e-04,\n",
       "         1.52804036e-02,  1.70019001e-02, -3.15304410e-03,\n",
       "        -2.25876269e-02, -1.51854663e-02,  1.09198768e-02,\n",
       "         3.44675880e-02,  5.24886634e-02,  4.80133196e-02],\n",
       "       [-1.47753420e-03,  3.29841574e-03,  8.71525171e-03,\n",
       "         1.07351353e-02,  6.40191900e-03, -4.59942323e-03,\n",
       "        -1.43107864e-02, -1.45026331e-02, -8.29162813e-03,\n",
       "         3.09215814e-03,  1.00675701e-02,  2.90458508e-03],\n",
       "       [-1.13765808e-02, -2.21133218e-02, -3.30510870e-02,\n",
       "        -4.30582547e-02, -4.97387316e-02, -5.26211957e-02,\n",
       "        -5.11349358e-02, -4.62108032e-02, -3.47782069e-02,\n",
       "        -2.11385009e-02, -8.39052648e-03,  1.16782959e-03],\n",
       "       [ 1.05125761e-01,  1.22412456e-01,  8.84440038e-02,\n",
       "        -1.33800680e-02, -1.61586973e-01, -2.93335167e-01,\n",
       "        -3.43183896e-01, -2.84994640e-01, -1.50462817e-01,\n",
       "        -4.58404387e-03,  9.31845786e-02,  1.21992591e-01],\n",
       "       [ 1.12173807e-01,  1.37709691e-01,  8.66222949e-02,\n",
       "        -4.72635160e-02, -1.82121646e-01, -2.22930822e-01,\n",
       "        -1.65916280e-01, -7.72919129e-02, -4.99349548e-03,\n",
       "         4.58859983e-02,  8.21276486e-02,  9.69788555e-02],\n",
       "       [-1.65600694e-02, -2.45574073e-02, -2.88290279e-02,\n",
       "        -3.11030498e-02, -3.34142275e-02, -3.38282033e-02,\n",
       "        -2.56098952e-02, -2.60940677e-03,  3.58679799e-02,\n",
       "         8.02957770e-02,  1.01967573e-01,  5.87574108e-02],\n",
       "       [ 4.42558147e-03,  5.26080103e-03,  8.50323689e-03,\n",
       "         1.10771551e-02,  1.00668562e-02,  7.44900652e-03,\n",
       "         6.71788902e-03,  1.15114040e-02,  2.16314619e-02,\n",
       "         2.99859347e-02,  2.12442796e-02, -1.76136190e-02],\n",
       "       [ 6.04617896e-03,  7.83308000e-03,  7.88921877e-03,\n",
       "         6.34541125e-03,  2.94987271e-03, -2.78022669e-03,\n",
       "        -5.11767961e-03, -1.22561804e-03, -4.93484892e-03,\n",
       "        -1.18568779e-02, -2.46905760e-02, -4.50124982e-02],\n",
       "       [-3.80065457e-02, -5.05191695e-02, -5.92295248e-02,\n",
       "        -6.50974700e-02, -6.77344113e-02, -7.18020043e-02,\n",
       "        -7.93448549e-02, -9.04506547e-02, -9.12755997e-02,\n",
       "        -9.09703778e-02, -9.06137174e-02, -8.76854029e-02],\n",
       "       [ 1.10192521e-01,  8.53445446e-02,  2.27672097e-02,\n",
       "        -7.10919615e-02, -1.76224377e-01, -2.58334849e-01,\n",
       "        -2.93119260e-01, -2.71553074e-01, -2.06398177e-01,\n",
       "        -1.11604407e-01, -1.78018005e-02,  4.66937864e-02],\n",
       "       [ 1.24889539e-01,  8.72531008e-02,  8.11701299e-04,\n",
       "        -1.05578367e-01, -1.84569685e-01, -2.01767897e-01,\n",
       "        -1.58657182e-01, -8.42796850e-02, -9.14963972e-03,\n",
       "         5.13746055e-02,  8.95875306e-02,  9.84770951e-02],\n",
       "       [-3.39147453e-02, -4.27281104e-02, -4.54494276e-02,\n",
       "        -4.36269786e-02, -3.71326299e-02, -2.13609394e-02,\n",
       "         5.14101960e-03,  3.63764038e-02,  6.01290287e-02,\n",
       "         6.49917641e-02,  3.64010193e-02, -2.70903219e-02],\n",
       "       [ 9.29229813e-03,  1.47222028e-02,  1.70526917e-02,\n",
       "         1.68612875e-02,  1.67982845e-02,  2.53763937e-02,\n",
       "         3.89323774e-02,  4.27257428e-02,  2.80324707e-02,\n",
       "         4.02093533e-03, -3.00704804e-02, -7.01574824e-02],\n",
       "       [ 8.10891251e-03,  1.03485039e-02,  1.05547676e-02,\n",
       "         1.02167804e-02,  8.15010826e-03,  2.79762375e-03,\n",
       "        -3.66600205e-03, -9.83007680e-03, -2.52142556e-02,\n",
       "        -4.27534556e-02, -6.20793993e-02, -8.28707245e-02],\n",
       "       [-4.55904088e-02, -5.81648724e-02, -6.66715759e-02,\n",
       "        -7.24008735e-02, -7.39154804e-02, -7.97397686e-02,\n",
       "        -9.70881454e-02, -1.20363164e-01, -1.29039932e-01,\n",
       "        -1.37031754e-01, -1.42587706e-01, -1.40865735e-01],\n",
       "       [ 7.00334465e-02,  2.48405871e-02, -3.73175149e-02,\n",
       "        -1.08246407e-01, -1.76399814e-01, -2.22393930e-01,\n",
       "        -2.37170041e-01, -2.24479412e-01, -1.96075442e-01,\n",
       "        -1.45016697e-01, -8.38649905e-02, -2.90549771e-02],\n",
       "       [ 7.71755566e-02,  1.68161482e-02, -5.88622934e-02,\n",
       "        -1.29655406e-01, -1.74728878e-01, -1.76248877e-01,\n",
       "        -1.35334324e-01, -7.27969777e-02, -1.21158741e-02,\n",
       "         3.83533093e-02,  6.52946241e-02,  6.21260701e-02]])"
      ]
     },
     "execution_count": 13,
     "metadata": {},
     "output_type": "execute_result"
    }
   ],
   "source": [
    "mat[:,:,0]"
   ]
  },
  {
   "cell_type": "code",
   "execution_count": 14,
   "metadata": {},
   "outputs": [
    {
     "data": {
      "text/plain": [
       "(36, 6, 6)"
      ]
     },
     "execution_count": 14,
     "metadata": {},
     "output_type": "execute_result"
    }
   ],
   "source": [
    "pool_forward(mat).shape"
   ]
  },
  {
   "cell_type": "code",
   "execution_count": 16,
   "metadata": {},
   "outputs": [
    {
     "data": {
      "text/plain": [
       "28"
      ]
     },
     "execution_count": 16,
     "metadata": {},
     "output_type": "execute_result"
    }
   ],
   "source": [
    "len(trainX)"
   ]
  },
  {
   "cell_type": "code",
   "execution_count": 327,
   "metadata": {},
   "outputs": [],
   "source": [
    "import pickle\n",
    "with open(\"new_trainX.pkl\", 'wb') as obj:\n",
    "    pickle.dump(trainX_new, obj)"
   ]
  },
  {
   "cell_type": "code",
   "execution_count": 328,
   "metadata": {},
   "outputs": [],
   "source": [
    "with open(\"new_trainX.pkl\", 'rb') as obj:\n",
    "    new_trainX = pickle.load(obj)"
   ]
  },
  {
   "cell_type": "code",
   "execution_count": 329,
   "metadata": {},
   "outputs": [
    {
     "data": {
      "text/plain": [
       "1000"
      ]
     },
     "execution_count": 329,
     "metadata": {},
     "output_type": "execute_result"
    }
   ],
   "source": [
    "len(new_trainX)"
   ]
  },
  {
   "cell_type": "code",
   "execution_count": 17,
   "metadata": {},
   "outputs": [
    {
     "data": {
      "text/plain": [
       "(28, 28)"
      ]
     },
     "execution_count": 17,
     "metadata": {},
     "output_type": "execute_result"
    }
   ],
   "source": [
    "trainX[0].shape"
   ]
  },
  {
   "cell_type": "code",
   "execution_count": null,
   "metadata": {},
   "outputs": [],
   "source": []
  },
  {
   "cell_type": "code",
   "execution_count": 18,
   "metadata": {},
   "outputs": [],
   "source": [
    "import random\n",
    "\n",
    "import matplotlib.pyplot as plt\n",
    "%matplotlib inline"
   ]
  },
  {
   "cell_type": "code",
   "execution_count": 19,
   "metadata": {},
   "outputs": [],
   "source": [
    "class Layer(object):\n",
    "    \n",
    "    def __init__ (self, name, weights_dim, bias, input_X=None):\n",
    "        self.name = name\n",
    "        self.input = input_X\n",
    "        self.z = None\n",
    "        self.output_a = None\n",
    "        \n",
    "        self.weights = np.random.randn(weights_dim[0],weights_dim[1])\n",
    "        self.bias = np.random.randn(bias)\n",
    "        \n",
    "    errors = list()\n",
    "    accuaracies = list ()\n",
    "    gradient = None\n",
    "    \n",
    "    def sigmoid(self, s):\n",
    "        return  (1/(1 + np.exp(-s))) \n",
    "    \n",
    "    \n",
    "    def sigmoid_derivative(self, s):\n",
    "        #derivative of sigmoid\n",
    "        sig = self.sigmoid(s)\n",
    "        return sig *(1-sig) \n",
    "    \n",
    "    \n",
    "    def softmax(self, z):\n",
    "        max_V = np.max(z, axis=-1)\n",
    "        z = z - max_V #epsilon value to avoid the exponential overflow / divide by  zero error\n",
    "        e_xp = np.exp(z)\n",
    "        sfm = ( e_xp / np.sum(e_xp, axis=-1, keepdims=True) )\n",
    "        return sfm\n",
    "    \n",
    "    def relu(self, z):\n",
    "        s = np.where(z>=0,z,0)\n",
    "        return s\n",
    "    \n",
    "    \n",
    "    def relu_derivative(self, z):\n",
    "        #derivative of relu\n",
    "        s = np.where(z>=0,1,0)\n",
    "        return  s  # apply derivative of relu on s and return it's value\n",
    "    \n",
    "    \n",
    "    def tanh(self, z):\n",
    "        return (2*self.sigmoid(2*z)) - 1 \n",
    "  \n",
    "    \n",
    "    def tanh_derivative(self, z):\n",
    "        #derivative of tanh\n",
    "        return 1 - self.tanh(z)**2  # apply derivative of tanh on s and return it's value\n",
    "  \n",
    "    \n",
    "    def crossentropy(self, Y, Y_pred):\n",
    "        epsilon = 0.000001\n",
    "        errors_for_all_data = Y * np.log(Y_pred + epsilon)\n",
    "        return (-1)*sum(errors_for_all_data) #error\n",
    "\n",
    "    \n",
    "    def act_foo (self, h, name=\"sigmoid\"):\n",
    "        if name == \"sigmoid\":\n",
    "            return self.sigmoid(h)\n",
    "        if name == \"softmax\":\n",
    "            return self.softmax(h)\n",
    "        if name == \"relu\":\n",
    "            return self.relu(h)\n",
    "        if name == \"tanh\":\n",
    "            return self.tanh(h)\n",
    "        \n",
    "        \n",
    "    def derv_act_foo (self, h, name=\"sigmoid\"):\n",
    "        if name == \"sigmoid\":\n",
    "            return self.sigmoid_derivative(h)\n",
    "        if name == \"relu\":\n",
    "            return self.relu_derivative(h)\n",
    "        if name == \"tanh\":\n",
    "            return self.tanh_derivative(h)\n",
    "       \n",
    "    "
   ]
  },
  {
   "cell_type": "code",
   "execution_count": 20,
   "metadata": {},
   "outputs": [],
   "source": [
    "def init_network (no_of_layers=2, input_dim=1296, neuron_per_layer=[100,50,10]):\n",
    "    layers = list()\n",
    "    input_layer = Layer (\"input\", (input_dim, neuron_per_layer[0]), neuron_per_layer[0] ) \n",
    "    layers.append(input_layer)\n",
    "    \n",
    "    for i in range(0, no_of_layers):\n",
    "        if i+1 == no_of_layers:\n",
    "            layer = Layer (\"output\" , (neuron_per_layer[i], neuron_per_layer[i+1]) , neuron_per_layer[i+1] ) \n",
    "            layers.append(layer)\n",
    "        else:\n",
    "            layer = Layer (\"hidden \"+str(i+1) , (neuron_per_layer[i], neuron_per_layer[i+1]) , neuron_per_layer[i+1] ) \n",
    "            layers.append(layer)\n",
    "\n",
    "    return layers\n"
   ]
  },
  {
   "cell_type": "code",
   "execution_count": 21,
   "metadata": {},
   "outputs": [],
   "source": [
    "def get_onehot_encodings(labels):\n",
    "    y = labels\n",
    "    unique = np.unique(y)\n",
    "    new_Y = np.zeros((len(y),len(unique)), dtype=int)\n",
    "    \n",
    "    for ind, val in enumerate(unique):\n",
    "        a = np.where(y==val)\n",
    "        new_Y[a, ind] = 1\n",
    "   \n",
    "    return new_Y\n"
   ]
  },
  {
   "cell_type": "code",
   "execution_count": 111,
   "metadata": {},
   "outputs": [],
   "source": [
    "def accuracy(net, testX, testY, list_act_foo):\n",
    "        # predict the value of testX\n",
    "        predictions =  list()\n",
    "        for ind, data in enumerate(testX):\n",
    "            ff_net = feed_forward(net, data.reshape(1,-1), list_act_foo)\n",
    "            predictions.append(ff_net[-1].output_a)\n",
    "        #predictions = predictions[0,:]\n",
    "        count = 0\n",
    "        for pred,org in zip(predictions,testY):\n",
    "            ind = np.argmax(pred)\n",
    "            prediction = np.zeros((1,10), dtype=int)\n",
    "            prediction[0,ind] = 1\n",
    "            if (prediction == org).all():\n",
    "                count += 1        \n",
    "\n",
    "        return \"{:.2f}\".format(count/len(testY) *100)  # return accuracy    \n"
   ]
  },
  {
   "cell_type": "code",
   "execution_count": 23,
   "metadata": {},
   "outputs": [],
   "source": [
    "def feed_forward(net, data, list_act_foo):\n",
    "    net[0].input = data\n",
    "    \n",
    "    for ind,layer in enumerate(net):\n",
    "        z = np.dot(layer.input, layer.weights) + layer.bias\n",
    "        #print(\"shape z\", z.shape)\n",
    "        layer.z = z\n",
    "        a_output = layer.act_foo( z , list_act_foo[ind])\n",
    "        #print(\"shape a\", a_output.shape)\n",
    "        layer.output_a = a_output\n",
    "        \n",
    "        if ind+1 <= len(net)-1:\n",
    "            net[ind+1].input = a_output\n",
    "\n",
    "\n",
    "    return net\n",
    "\n",
    "    "
   ]
  },
  {
   "cell_type": "code",
   "execution_count": 24,
   "metadata": {},
   "outputs": [],
   "source": [
    "def back_prop (net, X, Y, lr, list_act_foo):\n",
    "    y_pred = net[-1].output_a\n",
    "    if np.isnan(y_pred).any():\n",
    "        y_pred = np.nan_to_num(y_pred, neginf=0, posinf=0.1)\n",
    "        print(np.isnan(y_pred).any())\n",
    "\n",
    "    \n",
    "    #print(\"predicted:\",y_pred.shape)\n",
    "    #print(\"original:\",Y.shape)\n",
    "    cost = net[-1].crossentropy(Y,y_pred)\n",
    "    error =  np.sum(cost)   \n",
    "\n",
    "    \n",
    "    #print(\"error :\", error)\n",
    "    derv_sig = y_pred - Y\n",
    "    #print(derv_sig)\n",
    "    #derv_z = net[-1].sigmoid_derivative(y_pred)\n",
    "    outputL_gradient = derv_sig   #element wise multiplication\n",
    "    net[-1].gradient = outputL_gradient\n",
    "    derv_Ws_el = np.dot(net[-1].input.T, outputL_gradient )\n",
    "    derv_b_el =   np.sum(outputL_gradient)\n",
    "    \n",
    "    #print(\"weights before last layer\", net[-1].weights)\n",
    "    ws = net[-1].weights - (lr * derv_Ws_el)\n",
    "    b = net[-1].bias -  (lr *  derv_b_el )\n",
    "    net[-1].weights = ws\n",
    "    net[-1].bias = b\n",
    "    #print(\"\\nweights After (last layer)\", net[-1].weights)\n",
    "    \n",
    "    no_layers = range(len(net) - 1)\n",
    "    for i in reversed(no_layers):\n",
    "        error_hdn_L  = np.dot(net[i+1].gradient, net[i+1].weights.T)\n",
    "        derv_z_a = net[i].derv_act_foo(net[i].z, list_act_foo[i])\n",
    "        hdn_grad = error_hdn_L * derv_z_a\n",
    "        net[i].gradient = hdn_grad\n",
    "        \n",
    "        derv_hdn_Ws = np.dot(net[i].input.T, hdn_grad)\n",
    "        derv_hdn_b = np.sum(hdn_grad)\n",
    "        #updating\n",
    "        #print(\"\\nweights before in hdn layer\", net[i].weights)\n",
    "        net[i].weights = net[i].weights -  (lr * derv_hdn_Ws) \n",
    "        net[i].bias = net[i].bias -  (lr * derv_hdn_b) \n",
    "        #print(\"\\nweights after in hdn layer\", net[i].weights)\n",
    "        \n",
    "        \n",
    "    return net,error\n",
    "        \n",
    "        \n",
    "    \n"
   ]
  },
  {
   "cell_type": "code",
   "execution_count": 25,
   "metadata": {},
   "outputs": [],
   "source": [
    "def train_sgd (net, train_set_x, train_set_y, test_set_x, test_set_y, learning_rate, act_foo,batch_size, training_epochs):\n",
    "    train_acc = list()\n",
    "    test_acc = list()\n",
    "    for epoch in range(1, training_epochs+1):\n",
    "        errors = list()\n",
    "\n",
    "        for ind, data in enumerate(train_set_x):\n",
    "            net = feed_forward(net, data.reshape(1,-1), act_foo)\n",
    "            net, error = back_prop(net, data.reshape(1,-1), train_set_y[ind], learning_rate,  act_foo)\n",
    "            errors.append(error)\n",
    "            \n",
    "        train_acc.append(accuracy(net, train_set_x, encoded_train_y, act_foo) )\n",
    "        test_acc.append(accuracy(net, test_set_x, encoded_test_y, act_foo) )\n",
    "        \n",
    "        print(\"Avg Error in\",epoch,\"epoch: {:.6f}\".format(sum(errors)/len(errors)) )\n",
    "    \n",
    "    plt.title(\"Accuracy curves w.r.t Epochs\")\n",
    "    plt.xlabel(\"Epochs\")\n",
    "    plt.ylabel(\"Accuracy\")\n",
    "    plt.yticks(list(range(0,101,10)) )\n",
    "    plt.plot(test_acc)\n",
    "    plt.plot(train_acc)\n",
    "    \n",
    "    #plt.xticks(list(range(1,training_epochs)) )\n",
    "    plt.legend({\"test\",\"train\"})\n",
    "\n",
    "        \n",
    "    return net\n",
    "\n"
   ]
  },
  {
   "cell_type": "code",
   "execution_count": 380,
   "metadata": {},
   "outputs": [
    {
     "data": {
      "text/plain": [
       "3"
      ]
     },
     "execution_count": 380,
     "metadata": {},
     "output_type": "execute_result"
    }
   ],
   "source": []
  },
  {
   "cell_type": "code",
   "execution_count": 26,
   "metadata": {},
   "outputs": [
    {
     "data": {
      "text/plain": [
       "((28, 10), (30, 10))"
      ]
     },
     "execution_count": 26,
     "metadata": {},
     "output_type": "execute_result"
    }
   ],
   "source": [
    "encoded_train_y = get_onehot_encodings(trainY)\n",
    "encoded_test_y = get_onehot_encodings(testY)\n",
    "encoded_train_y.shape, encoded_test_y.shape"
   ]
  },
  {
   "cell_type": "code",
   "execution_count": 27,
   "metadata": {},
   "outputs": [],
   "source": [
    "trainX_new = conv_pool(trainX, filters)"
   ]
  },
  {
   "cell_type": "code",
   "execution_count": 28,
   "metadata": {},
   "outputs": [],
   "source": [
    "new_test_X = conv_pool(testX, filters)"
   ]
  },
  {
   "cell_type": "code",
   "execution_count": 29,
   "metadata": {},
   "outputs": [
    {
     "data": {
      "text/plain": [
       "28"
      ]
     },
     "execution_count": 29,
     "metadata": {},
     "output_type": "execute_result"
    }
   ],
   "source": [
    "len(trainX_new)"
   ]
  },
  {
   "cell_type": "code",
   "execution_count": 30,
   "metadata": {},
   "outputs": [
    {
     "data": {
      "text/plain": [
       "(1296, 1)"
      ]
     },
     "execution_count": 30,
     "metadata": {},
     "output_type": "execute_result"
    }
   ],
   "source": [
    "trainX_new[0].shape"
   ]
  },
  {
   "cell_type": "code",
   "execution_count": 83,
   "metadata": {},
   "outputs": [
    {
     "data": {
      "text/plain": [
       "(1296, 1)"
      ]
     },
     "execution_count": 83,
     "metadata": {},
     "output_type": "execute_result"
    }
   ],
   "source": [
    "new_test_X[0].shape"
   ]
  },
  {
   "cell_type": "code",
   "execution_count": 120,
   "metadata": {},
   "outputs": [
    {
     "data": {
      "text/plain": [
       "3"
      ]
     },
     "execution_count": 120,
     "metadata": {},
     "output_type": "execute_result"
    }
   ],
   "source": [
    "act_foo = [\"sigmoid\",\"tanh\",\"softmax\"]\n",
    "net = init_network(2, 1296, [100,50,10])\n",
    "len(net)\n"
   ]
  },
  {
   "cell_type": "code",
   "execution_count": 121,
   "metadata": {
    "scrolled": true
   },
   "outputs": [
    {
     "name": "stdout",
     "output_type": "stream",
     "text": [
      "Avg Error in 1 epoch: 8.973098\n",
      "Avg Error in 2 epoch: 8.627089\n",
      "Avg Error in 3 epoch: 8.282202\n",
      "Avg Error in 4 epoch: 7.932916\n",
      "Avg Error in 5 epoch: 7.559876\n",
      "Avg Error in 6 epoch: 7.149935\n",
      "Avg Error in 7 epoch: 6.725268\n",
      "Avg Error in 8 epoch: 6.312902\n",
      "Avg Error in 9 epoch: 5.932341\n",
      "Avg Error in 10 epoch: 5.591035\n",
      "Avg Error in 11 epoch: 5.288375\n",
      "Avg Error in 12 epoch: 5.018283\n",
      "Avg Error in 13 epoch: 4.772199\n",
      "Avg Error in 14 epoch: 4.543435\n",
      "Avg Error in 15 epoch: 4.327833\n",
      "Avg Error in 16 epoch: 4.122288\n",
      "Avg Error in 17 epoch: 3.923683\n",
      "Avg Error in 18 epoch: 3.729617\n",
      "Avg Error in 19 epoch: 3.540094\n",
      "Avg Error in 20 epoch: 3.358092\n",
      "Avg Error in 21 epoch: 3.187290\n",
      "Avg Error in 22 epoch: 3.028594\n",
      "Avg Error in 23 epoch: 2.880047\n",
      "Avg Error in 24 epoch: 2.739551\n",
      "Avg Error in 25 epoch: 2.606889\n",
      "Avg Error in 26 epoch: 2.484020\n",
      "Avg Error in 27 epoch: 2.373071\n",
      "Avg Error in 28 epoch: 2.273809\n",
      "Avg Error in 29 epoch: 2.183923\n",
      "Avg Error in 30 epoch: 2.100830\n",
      "Avg Error in 31 epoch: 2.022508\n",
      "Avg Error in 32 epoch: 1.947522\n",
      "Avg Error in 33 epoch: 1.874963\n",
      "Avg Error in 34 epoch: 1.804515\n",
      "Avg Error in 35 epoch: 1.736505\n",
      "Avg Error in 36 epoch: 1.671677\n",
      "Avg Error in 37 epoch: 1.610630\n",
      "Avg Error in 38 epoch: 1.553438\n",
      "Avg Error in 39 epoch: 1.499749\n",
      "Avg Error in 40 epoch: 1.449080\n",
      "Avg Error in 41 epoch: 1.400986\n",
      "Avg Error in 42 epoch: 1.355107\n",
      "Avg Error in 43 epoch: 1.311166\n",
      "Avg Error in 44 epoch: 1.268952\n",
      "Avg Error in 45 epoch: 1.228314\n",
      "Avg Error in 46 epoch: 1.189141\n",
      "Avg Error in 47 epoch: 1.151359\n",
      "Avg Error in 48 epoch: 1.114913\n",
      "Avg Error in 49 epoch: 1.079758\n",
      "Avg Error in 50 epoch: 1.045850\n"
     ]
    },
    {
     "data": {
      "image/png": "[encoded data removed]",
      "text/plain": [
       "<Figure size 432x288 with 1 Axes>"
      ]
     },
     "metadata": {
      "needs_background": "light"
     },
     "output_type": "display_data"
    }
   ],
   "source": [
    "net = train_sgd(net, trainX_new, encoded_train_y, new_test_X, encoded_test_y, 0.001, act_foo, None, 50 )\n"
   ]
  },
  {
   "cell_type": "code",
   "execution_count": 122,
   "metadata": {},
   "outputs": [
    {
     "data": {
      "text/plain": [
       "(1, 10)"
      ]
     },
     "execution_count": 122,
     "metadata": {},
     "output_type": "execute_result"
    }
   ],
   "source": [
    "net[-1].output_a.shape"
   ]
  },
  {
   "cell_type": "code",
   "execution_count": 123,
   "metadata": {},
   "outputs": [
    {
     "name": "stdout",
     "output_type": "stream",
     "text": [
      "82.14\n",
      "73.33\n"
     ]
    }
   ],
   "source": [
    "print(accuracy(net, trainX_new, encoded_train_y, act_foo) )\n",
    "print(accuracy(net, new_test_X, encoded_test_y, act_foo) )\n",
    "        "
   ]
  },
  {
   "cell_type": "code",
   "execution_count": 116,
   "metadata": {},
   "outputs": [
    {
     "name": "stdout",
     "output_type": "stream",
     "text": [
      "Avg Error in 1 epoch: 4.689063\n",
      "Avg Error in 2 epoch: 4.664389\n",
      "Avg Error in 3 epoch: 4.639893\n",
      "Avg Error in 4 epoch: 4.615575\n",
      "Avg Error in 5 epoch: 4.591437\n"
     ]
    },
    {
     "data": {
      "image/png": "[encoded data removed]",
      "text/plain": [
       "<Figure size 432x288 with 1 Axes>"
      ]
     },
     "metadata": {
      "needs_background": "light"
     },
     "output_type": "display_data"
    }
   ],
   "source": [
    "net = train_sgd(net, trainX_new, encoded_train_y, new_test_X, encoded_test_y, 0.0001, act_foo, None, 5 )\n"
   ]
  },
  {
   "cell_type": "code",
   "execution_count": 533,
   "metadata": {},
   "outputs": [
    {
     "name": "stdout",
     "output_type": "stream",
     "text": [
      "72.40\n",
      "60.00\n"
     ]
    }
   ],
   "source": [
    "print(accuracy(net, trainX_new, encoded_train_y, act_foo) )\n",
    "print(accuracy(net, new_test_X, encoded_test_y, act_foo) )\n"
   ]
  },
  {
   "cell_type": "code",
   "execution_count": 460,
   "metadata": {},
   "outputs": [],
   "source": [
    "import pickle\n",
    "with open(\"bestmodel\", 'wb') as obj:\n",
    "    pickle.dump(net7,obj)"
   ]
  },
  {
   "cell_type": "code",
   "execution_count": null,
   "metadata": {},
   "outputs": [],
   "source": []
  },
  {
   "cell_type": "code",
   "execution_count": 74,
   "metadata": {},
   "outputs": [],
   "source": [
    "import pickle\n",
    "with open(\"bestmodel\", 'rb') as obj:\n",
    "    n_net = pickle.load(obj)"
   ]
  },
  {
   "cell_type": "code",
   "execution_count": 108,
   "metadata": {},
   "outputs": [
    {
     "name": "stdout",
     "output_type": "stream",
     "text": [
      "(1, 10)\n"
     ]
    },
    {
     "data": {
      "text/plain": [
       "'75.00'"
      ]
     },
     "execution_count": 108,
     "metadata": {},
     "output_type": "execute_result"
    }
   ],
   "source": [
    "accuracy(n_net, trainX_new, encoded_train_y, act_foo)"
   ]
  },
  {
   "cell_type": "code",
   "execution_count": 107,
   "metadata": {},
   "outputs": [
    {
     "name": "stdout",
     "output_type": "stream",
     "text": [
      "(1, 10)\n"
     ]
    },
    {
     "data": {
      "text/plain": [
       "'70.00'"
      ]
     },
     "execution_count": 107,
     "metadata": {},
     "output_type": "execute_result"
    }
   ],
   "source": [
    "accuracy(n_net,  new_test_X, encoded_test_y, act_foo)"
   ]
  },
  {
   "cell_type": "code",
   "execution_count": null,
   "metadata": {},
   "outputs": [],
   "source": []
  }
 ],
 "metadata": {
  "kernelspec": {
   "display_name": "Python 3",
   "language": "python",
   "name": "python3"
  },
  "language_info": {
   "codemirror_mode": {
    "name": "ipython",
    "version": 3
   },
   "file_extension": ".py",
   "mimetype": "text/x-python",
   "name": "python",
   "nbconvert_exporter": "python",
   "pygments_lexer": "ipython3",
   "version": "3.7.3"
  }
 },
 "nbformat": 4,
 "nbformat_minor": 2
}
